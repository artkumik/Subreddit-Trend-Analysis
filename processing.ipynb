{
 "cells": [
  {
   "cell_type": "code",
   "execution_count": 1,
   "id": "3a000939",
   "metadata": {},
   "outputs": [],
   "source": [
    "import numpy as np\n",
    "import pandas as pd"
   ]
  },
  {
   "cell_type": "code",
   "execution_count": 2,
   "id": "6a9fdd77",
   "metadata": {},
   "outputs": [
    {
     "data": {
      "text/html": [
       "<div>\n",
       "<style scoped>\n",
       "    .dataframe tbody tr th:only-of-type {\n",
       "        vertical-align: middle;\n",
       "    }\n",
       "\n",
       "    .dataframe tbody tr th {\n",
       "        vertical-align: top;\n",
       "    }\n",
       "\n",
       "    .dataframe thead th {\n",
       "        text-align: right;\n",
       "    }\n",
       "</style>\n",
       "<table border=\"1\" class=\"dataframe\">\n",
       "  <thead>\n",
       "    <tr style=\"text-align: right;\">\n",
       "      <th></th>\n",
       "      <th>retrieved_on</th>\n",
       "      <th>ups</th>\n",
       "      <th>media</th>\n",
       "      <th>selftext</th>\n",
       "      <th>permalink</th>\n",
       "      <th>link_flair_text</th>\n",
       "      <th>secure_media_embed</th>\n",
       "      <th>title</th>\n",
       "      <th>distinguished</th>\n",
       "      <th>thumbnail</th>\n",
       "      <th>...</th>\n",
       "      <th>adserver_click_url</th>\n",
       "      <th>href_url</th>\n",
       "      <th>third_party_tracking_2</th>\n",
       "      <th>mobile_ad_url</th>\n",
       "      <th>disable_comments</th>\n",
       "      <th>imp_pixel</th>\n",
       "      <th>post_hint</th>\n",
       "      <th>preview</th>\n",
       "      <th></th>\n",
       "      <th>edscoreited</th>\n",
       "    </tr>\n",
       "  </thead>\n",
       "  <tbody>\n",
       "    <tr>\n",
       "      <th>0</th>\n",
       "      <td>1441043920</td>\n",
       "      <td>1</td>\n",
       "      <td>None</td>\n",
       "      <td></td>\n",
       "      <td>/r/news/comments/2nw07t/i_hope_you_die_of_aids...</td>\n",
       "      <td>None</td>\n",
       "      <td>{}</td>\n",
       "      <td>I hope you die of AIDS in prison.</td>\n",
       "      <td>None</td>\n",
       "      <td>default</td>\n",
       "      <td>...</td>\n",
       "      <td>NaN</td>\n",
       "      <td>NaN</td>\n",
       "      <td>NaN</td>\n",
       "      <td>NaN</td>\n",
       "      <td>NaN</td>\n",
       "      <td>NaN</td>\n",
       "      <td>NaN</td>\n",
       "      <td>NaN</td>\n",
       "      <td>NaN</td>\n",
       "      <td>NaN</td>\n",
       "    </tr>\n",
       "    <tr>\n",
       "      <th>1</th>\n",
       "      <td>1441043920</td>\n",
       "      <td>2</td>\n",
       "      <td>None</td>\n",
       "      <td>I'd like to submit a childhood favourite of mi...</td>\n",
       "      <td>/r/AskReddit/comments/2nw07u/its_turned_decemb...</td>\n",
       "      <td>None</td>\n",
       "      <td>{}</td>\n",
       "      <td>It's turned December 1st here in the UK; Reddi...</td>\n",
       "      <td>None</td>\n",
       "      <td>self</td>\n",
       "      <td>...</td>\n",
       "      <td>NaN</td>\n",
       "      <td>NaN</td>\n",
       "      <td>NaN</td>\n",
       "      <td>NaN</td>\n",
       "      <td>NaN</td>\n",
       "      <td>NaN</td>\n",
       "      <td>NaN</td>\n",
       "      <td>NaN</td>\n",
       "      <td>NaN</td>\n",
       "      <td>NaN</td>\n",
       "    </tr>\n",
       "    <tr>\n",
       "      <th>2</th>\n",
       "      <td>1441043920</td>\n",
       "      <td>3</td>\n",
       "      <td>None</td>\n",
       "      <td>So my gf wants to play old school nintendo gam...</td>\n",
       "      <td>/r/pcmasterrace/comments/2nw07v/playstation_co...</td>\n",
       "      <td>None</td>\n",
       "      <td>{}</td>\n",
       "      <td>Playstation controllers not being recognized?</td>\n",
       "      <td>None</td>\n",
       "      <td>self</td>\n",
       "      <td>...</td>\n",
       "      <td>NaN</td>\n",
       "      <td>NaN</td>\n",
       "      <td>NaN</td>\n",
       "      <td>NaN</td>\n",
       "      <td>NaN</td>\n",
       "      <td>NaN</td>\n",
       "      <td>NaN</td>\n",
       "      <td>NaN</td>\n",
       "      <td>NaN</td>\n",
       "      <td>NaN</td>\n",
       "    </tr>\n",
       "    <tr>\n",
       "      <th>3</th>\n",
       "      <td>1441043920</td>\n",
       "      <td>0</td>\n",
       "      <td>None</td>\n",
       "      <td>Why the fuck dreamhack includes players in str...</td>\n",
       "      <td>/r/starcraft/comments/2nw07w/thanks_dreamhack/</td>\n",
       "      <td>[Other]</td>\n",
       "      <td>{}</td>\n",
       "      <td>Thanks dreamhack</td>\n",
       "      <td>None</td>\n",
       "      <td>self</td>\n",
       "      <td>...</td>\n",
       "      <td>NaN</td>\n",
       "      <td>NaN</td>\n",
       "      <td>NaN</td>\n",
       "      <td>NaN</td>\n",
       "      <td>NaN</td>\n",
       "      <td>NaN</td>\n",
       "      <td>NaN</td>\n",
       "      <td>NaN</td>\n",
       "      <td>NaN</td>\n",
       "      <td>NaN</td>\n",
       "    </tr>\n",
       "    <tr>\n",
       "      <th>4</th>\n",
       "      <td>1441043920</td>\n",
       "      <td>11</td>\n",
       "      <td>None</td>\n",
       "      <td></td>\n",
       "      <td>/r/news/comments/2nw07x/ohio_state_football_pl...</td>\n",
       "      <td>None</td>\n",
       "      <td>{}</td>\n",
       "      <td>Ohio State Football Player Kosta Karageorge Fo...</td>\n",
       "      <td>None</td>\n",
       "      <td>http://a.thumbs.redditmedia.com/9NAX6O7TsxpsDt...</td>\n",
       "      <td>...</td>\n",
       "      <td>NaN</td>\n",
       "      <td>NaN</td>\n",
       "      <td>NaN</td>\n",
       "      <td>NaN</td>\n",
       "      <td>NaN</td>\n",
       "      <td>NaN</td>\n",
       "      <td>NaN</td>\n",
       "      <td>NaN</td>\n",
       "      <td>NaN</td>\n",
       "      <td>NaN</td>\n",
       "    </tr>\n",
       "  </tbody>\n",
       "</table>\n",
       "<p>5 rows × 52 columns</p>\n",
       "</div>"
      ],
      "text/plain": [
       "   retrieved_on  ups media                                           selftext  \\\n",
       "0    1441043920    1  None                                                      \n",
       "1    1441043920    2  None  I'd like to submit a childhood favourite of mi...   \n",
       "2    1441043920    3  None  So my gf wants to play old school nintendo gam...   \n",
       "3    1441043920    0  None  Why the fuck dreamhack includes players in str...   \n",
       "4    1441043920   11  None                                                      \n",
       "\n",
       "                                           permalink link_flair_text  \\\n",
       "0  /r/news/comments/2nw07t/i_hope_you_die_of_aids...            None   \n",
       "1  /r/AskReddit/comments/2nw07u/its_turned_decemb...            None   \n",
       "2  /r/pcmasterrace/comments/2nw07v/playstation_co...            None   \n",
       "3     /r/starcraft/comments/2nw07w/thanks_dreamhack/         [Other]   \n",
       "4  /r/news/comments/2nw07x/ohio_state_football_pl...            None   \n",
       "\n",
       "  secure_media_embed                                              title  \\\n",
       "0                 {}                  I hope you die of AIDS in prison.   \n",
       "1                 {}  It's turned December 1st here in the UK; Reddi...   \n",
       "2                 {}      Playstation controllers not being recognized?   \n",
       "3                 {}                                   Thanks dreamhack   \n",
       "4                 {}  Ohio State Football Player Kosta Karageorge Fo...   \n",
       "\n",
       "  distinguished                                          thumbnail  ...  \\\n",
       "0          None                                            default  ...   \n",
       "1          None                                               self  ...   \n",
       "2          None                                               self  ...   \n",
       "3          None                                               self  ...   \n",
       "4          None  http://a.thumbs.redditmedia.com/9NAX6O7TsxpsDt...  ...   \n",
       "\n",
       "   adserver_click_url  href_url third_party_tracking_2 mobile_ad_url  \\\n",
       "0                 NaN       NaN                    NaN           NaN   \n",
       "1                 NaN       NaN                    NaN           NaN   \n",
       "2                 NaN       NaN                    NaN           NaN   \n",
       "3                 NaN       NaN                    NaN           NaN   \n",
       "4                 NaN       NaN                    NaN           NaN   \n",
       "\n",
       "  disable_comments imp_pixel  post_hint  preview      edscoreited  \n",
       "0              NaN       NaN        NaN      NaN NaN          NaN  \n",
       "1              NaN       NaN        NaN      NaN NaN          NaN  \n",
       "2              NaN       NaN        NaN      NaN NaN          NaN  \n",
       "3              NaN       NaN        NaN      NaN NaN          NaN  \n",
       "4              NaN       NaN        NaN      NaN NaN          NaN  \n",
       "\n",
       "[5 rows x 52 columns]"
      ]
     },
     "execution_count": 2,
     "metadata": {},
     "output_type": "execute_result"
    }
   ],
   "source": [
    "#test dataset\n",
    "data = pd.read_json(\"data/RS_2014-12\",lines = True)\n",
    "data.head()"
   ]
  },
  {
   "cell_type": "code",
   "execution_count": 3,
   "id": "f81d6a23",
   "metadata": {},
   "outputs": [
    {
     "data": {
      "text/plain": [
       "Index(['retrieved_on', 'ups', 'media', 'selftext', 'permalink',\n",
       "       'link_flair_text', 'secure_media_embed', 'title', 'distinguished',\n",
       "       'thumbnail', 'downs', 'hide_score', 'domain', 'subreddit',\n",
       "       'media_embed', 'author_flair_text', 'created_utc', 'quarantine',\n",
       "       'score', 'edited', 'stickied', 'created', 'from_kind', 'subreddit_id',\n",
       "       'url', 'secure_media', 'from_id', 'is_self', 'author', 'from',\n",
       "       'archived', 'id', 'gilded', 'link_flair_css_class', 'name', 'over_18',\n",
       "       'saved', 'num_comments', 'author_flair_css_class',\n",
       "       'third_party_tracking', 'promoted', 'adserver_imp_pixel',\n",
       "       'adserver_click_url', 'href_url', 'third_party_tracking_2',\n",
       "       'mobile_ad_url', 'disable_comments', 'imp_pixel', 'post_hint',\n",
       "       'preview', '', 'edscoreited'],\n",
       "      dtype='object')"
      ]
     },
     "execution_count": 3,
     "metadata": {},
     "output_type": "execute_result"
    }
   ],
   "source": [
    "data.columns"
   ]
  },
  {
   "cell_type": "code",
   "execution_count": 4,
   "id": "345015e4",
   "metadata": {},
   "outputs": [
    {
     "data": {
      "text/plain": [
       "is_self\n",
       "False    2583270\n",
       "True     2400743\n",
       "Name: count, dtype: int64"
      ]
     },
     "execution_count": 4,
     "metadata": {},
     "output_type": "execute_result"
    }
   ],
   "source": [
    "self_data = data[\"is_self\"].value_counts()\n",
    "self_data.head()"
   ]
  },
  {
   "cell_type": "code",
   "execution_count": 5,
   "id": "fc36d24a",
   "metadata": {},
   "outputs": [],
   "source": [
    "#removing images\n",
    "data = data[data[\"is_self\"] == True]"
   ]
  },
  {
   "cell_type": "code",
   "execution_count": 6,
   "id": "187bf2c9",
   "metadata": {},
   "outputs": [],
   "source": [
    "#removing over 18\n",
    "data = data[data[\"over_18\"] == False]"
   ]
  },
  {
   "cell_type": "code",
   "execution_count": 7,
   "id": "f7ab84e5",
   "metadata": {},
   "outputs": [
    {
     "data": {
      "text/plain": [
       "subreddit\n",
       "Fireteams               156936\n",
       "AskReddit               144374\n",
       "leagueoflegends          45003\n",
       "DestinyTheGame           41816\n",
       "GlobalOffensiveTrade     35240\n",
       "Showerthoughts           34401\n",
       "buildapc                 27979\n",
       "explainlikeimfive        20113\n",
       "hearthstone              16192\n",
       "friendsafari             14705\n",
       "pcmasterrace             14095\n",
       "GlobalOffensive          13906\n",
       "trees                    13473\n",
       "askscience               13168\n",
       "relationships            12478\n",
       "techsupport              12340\n",
       "wow                      12219\n",
       "DotA2                    11403\n",
       "jailbreak                10178\n",
       "Fitness                   9367\n",
       "Name: count, dtype: int64"
      ]
     },
     "execution_count": 7,
     "metadata": {},
     "output_type": "execute_result"
    }
   ],
   "source": [
    "popular_subreddits = data[\"subreddit\"].value_counts()\n",
    "popular_subreddits.head(20)"
   ]
  },
  {
   "cell_type": "markdown",
   "id": "4afac09c",
   "metadata": {},
   "source": [
    "good subreddits (many posts)\n",
    "- explainlikeimfive \n",
    "- Showerthoughts\n",
    "- techsupport\n",
    "- AskReddit\n",
    "\n",
    "total = 144374+12340+34401+20113 = 211228"
   ]
  },
  {
   "cell_type": "code",
   "execution_count": 8,
   "id": "89622c30",
   "metadata": {},
   "outputs": [],
   "source": [
    "def export(to_export):\n",
    "    csv_export = data[data[\"subreddit\"] == to_export]\n",
    "    csv_export = csv_export[[\"ups\",\"downs\",\"title\",\"selftext\"]]\n",
    "    csv_export.to_csv(f'processed_data/{to_export}.csv', index=False)"
   ]
  },
  {
   "cell_type": "code",
   "execution_count": 9,
   "id": "4e670429",
   "metadata": {},
   "outputs": [
    {
     "name": "stdout",
     "output_type": "stream",
     "text": [
      "exported explainlikeimfive to csv\n",
      "exported Showerthoughts to csv\n",
      "exported techsupport to csv\n",
      "exported AskReddit to csv\n"
     ]
    }
   ],
   "source": [
    "subreddits = [\"explainlikeimfive\",\"Showerthoughts\",\"techsupport\",\"AskReddit\"]\n",
    "\n",
    "for subreddit in subreddits:\n",
    "    print(f\"exported {subreddit} to csv\")\n",
    "    export(subreddit)"
   ]
  }
 ],
 "metadata": {
  "kernelspec": {
   "display_name": "base",
   "language": "python",
   "name": "python3"
  },
  "language_info": {
   "codemirror_mode": {
    "name": "ipython",
    "version": 3
   },
   "file_extension": ".py",
   "mimetype": "text/x-python",
   "name": "python",
   "nbconvert_exporter": "python",
   "pygments_lexer": "ipython3",
   "version": "3.11.7"
  }
 },
 "nbformat": 4,
 "nbformat_minor": 5
}
